{
 "cells": [
  {
   "cell_type": "code",
   "execution_count": 2,
   "id": "0c50f09d-1f72-46b5-950d-23fca691557c",
   "metadata": {},
   "outputs": [],
   "source": [
    "# Regular Expression\n",
    "import re # Regular expression module"
   ]
  },
  {
   "cell_type": "code",
   "execution_count": 3,
   "id": "0a08e55e-b610-484f-93e0-f9f5c532a20f",
   "metadata": {},
   "outputs": [],
   "source": [
    "#regex101.com # try this website to find regular expression\n"
   ]
  },
  {
   "cell_type": "code",
   "execution_count": null,
   "id": "68b46a76-0539-499a-89ce-ac4d19852e9f",
   "metadata": {},
   "outputs": [],
   "source": [
    "# NLP – Project – Camtasia Support Ticketing System to find out if ticket is high, mid, low priority\n",
    "# Say following tickets exist in the Camtasia's ticketing database MongoDB. Historical database - for training model\n",
    "#{\n",
    "# \"title\": \"camtasia closing and crashing during batch production\",\n",
    "# \"description\": \"So here's another post complaining about something I've read a couple of times before:\\n\\n During video production (though mostly batch production as that's what I useually use), Camtasia loves to crash. THencrash is basically//\",\n",
    "# \"creator\": \"Vl Put\",\n",
    "# \"create_ts\": \"3/23/2022 10:30 AM EST\".\n",
    "# \"severity\": \"High\"\n",
    "#}\n",
    "#{\n",
    "# \"title\": \"part of video lies outside of editable timeline\",\n",
    "# \"description\": \"Hi Everuone,\\n\\n So I have a video that somehow no longer allows me to move the play head to the end of all the content.\",\n",
    "# \"creator\": \"Jo Bid\",\n",
    "# \"create_ts\": \"3/24/2022 04:12 AM EST\".\n",
    "# \"severity\": \"Low\"\n",
    "#}\n"
   ]
  },
  {
   "cell_type": "code",
   "execution_count": 27,
   "id": "933b531f-8fd4-4989-9de5-686647e407d9",
   "metadata": {},
   "outputs": [],
   "source": [
    "### NLP Preprocessing library\n",
    "\n",
    "import spacy"
   ]
  },
  {
   "cell_type": "code",
   "execution_count": 5,
   "id": "021c3bc7-a4cb-426b-8c86-d262a1aab816",
   "metadata": {},
   "outputs": [
    {
     "name": "stdout",
     "output_type": "stream",
     "text": [
      "Dr. Strage loves pav bhaji in mumbai.\n",
      "Hulk loves chaat of delhi\n"
     ]
    }
   ],
   "source": [
    "nlp = spacy.load(\"en_core_web_sm\")\n",
    "\n",
    "doc = nlp(\"Dr. Strage loves pav bhaji in mumbai. Hulk loves chaat of delhi\")\n",
    "\n",
    "# sentence tokanization in Spacy\n",
    "for sentence in doc.sents:\n",
    "    print(sentence)"
   ]
  },
  {
   "cell_type": "code",
   "execution_count": 6,
   "id": "d1043e87-96ee-45f1-a93b-615ed3d48942",
   "metadata": {},
   "outputs": [
    {
     "name": "stdout",
     "output_type": "stream",
     "text": [
      "Dr.\n",
      "Strage\n",
      "loves\n",
      "pav\n",
      "bhaji\n",
      "in\n",
      "mumbai\n",
      ".\n",
      "Hulk\n",
      "loves\n",
      "chaat\n",
      "of\n",
      "delhi\n"
     ]
    }
   ],
   "source": [
    "# word tokanization in Spacy\n",
    "\n",
    "for sentence in doc.sents:\n",
    "    for word in sentence:\n",
    "        print(word)\n"
   ]
  },
  {
   "cell_type": "code",
   "execution_count": 28,
   "id": "98a34baf-d540-4974-9b78-eeb3ca35fa46",
   "metadata": {},
   "outputs": [
    {
     "name": "stderr",
     "output_type": "stream",
     "text": [
      "[nltk_data] Downloading package punkt_tab to\n",
      "[nltk_data]     C:\\Users\\K-PRITPAL\\AppData\\Roaming\\nltk_data...\n",
      "[nltk_data]   Package punkt_tab is already up-to-date!\n"
     ]
    },
    {
     "data": {
      "text/plain": [
       "True"
      ]
     },
     "execution_count": 28,
     "metadata": {},
     "output_type": "execute_result"
    }
   ],
   "source": [
    "### NLP Preprocessing library\n",
    "\n",
    "import nltk\n",
    "nltk.download('punkt_tab')"
   ]
  },
  {
   "cell_type": "code",
   "execution_count": 24,
   "id": "ae31e16d-4c4c-4f48-9387-5fb48e56cc3b",
   "metadata": {},
   "outputs": [],
   "source": [
    "from nltk.tokenize import sent_tokenize, word_tokenize \n",
    "  \n",
    "text = \"Dr. Strage loves pav bhaji in mumbai. Hulk loves chaat of delhi\""
   ]
  },
  {
   "cell_type": "code",
   "execution_count": 25,
   "id": "0d93fb4d-72dc-4b13-844b-f836fa90f385",
   "metadata": {},
   "outputs": [
    {
     "name": "stdout",
     "output_type": "stream",
     "text": [
      "['Dr. Strage loves pav bhaji in mumbai.', 'Hulk loves chaat of delhi']\n"
     ]
    }
   ],
   "source": [
    "print(sent_tokenize(text))"
   ]
  },
  {
   "cell_type": "code",
   "execution_count": 26,
   "id": "c210b129-4e99-4f02-b407-18b1855ab4da",
   "metadata": {},
   "outputs": [
    {
     "name": "stdout",
     "output_type": "stream",
     "text": [
      "['Dr.', 'Strage', 'loves', 'pav', 'bhaji', 'in', 'mumbai', '.', 'Hulk', 'loves', 'chaat', 'of', 'delhi']\n"
     ]
    }
   ],
   "source": [
    "print(word_tokenize(text))"
   ]
  },
  {
   "cell_type": "code",
   "execution_count": 53,
   "id": "c4440237-3c01-40ed-ab01-f540a2130ac4",
   "metadata": {},
   "outputs": [],
   "source": [
    "# Spacy Tutorial\n",
    "# spacy.io\n",
    "\n",
    "# nlp is an object which understands English/ \"de\" is default. Search for Spacy langulage model for more languages like for Hindi use \"hi\"\n",
    "nlp = spacy.blank(\"en\")"
   ]
  },
  {
   "cell_type": "code",
   "execution_count": 39,
   "id": "a500c12c-397b-4101-b351-f8a0acc8acc5",
   "metadata": {},
   "outputs": [
    {
     "name": "stdout",
     "output_type": "stream",
     "text": [
      "Let\n",
      "'s\n",
      "go\n",
      "to\n",
      "N.Y.\n",
      "!\n"
     ]
    }
   ],
   "source": [
    "# rules of tokenization\n",
    "\n",
    "text = \"Let's go to N.Y.!\"\n",
    "doc = nlp(text)\n",
    "\n",
    "for token in doc:\n",
    "    print(token)"
   ]
  },
  {
   "cell_type": "code",
   "execution_count": 34,
   "id": "cda6bdaf-3fb3-4647-ab40-9d76e33b5789",
   "metadata": {},
   "outputs": [
    {
     "name": "stdout",
     "output_type": "stream",
     "text": [
      "Dr.\n",
      "Strage\n",
      "loves\n",
      "pav\n",
      "bhaji\n",
      "in\n",
      "mumbai\n",
      ".\n",
      "Hulk\n",
      "loves\n",
      "chaat\n",
      "of\n",
      "delhi\n"
     ]
    }
   ],
   "source": [
    "\n",
    "text = \"Dr. Strage loves pav bhaji in mumbai. Hulk loves chaat of delhi\"\n",
    "\n",
    "doc = nlp(text)\n",
    "\n",
    "for token in doc:\n",
    "    print(token)"
   ]
  },
  {
   "cell_type": "code",
   "execution_count": 35,
   "id": "365987ba-b47e-4733-96fe-ea91eeb065a2",
   "metadata": {},
   "outputs": [
    {
     "data": {
      "text/plain": [
       "Dr."
      ]
     },
     "execution_count": 35,
     "metadata": {},
     "output_type": "execute_result"
    }
   ],
   "source": [
    "doc[0]"
   ]
  },
  {
   "cell_type": "code",
   "execution_count": 40,
   "id": "e18445e5-0960-446c-821e-c440a66dc138",
   "metadata": {},
   "outputs": [
    {
     "data": {
      "text/plain": [
       "spacy.lang.en.English"
      ]
     },
     "execution_count": 40,
     "metadata": {},
     "output_type": "execute_result"
    }
   ],
   "source": [
    "type(nlp)"
   ]
  },
  {
   "cell_type": "code",
   "execution_count": 41,
   "id": "dcb049a5-2244-43b0-a4c1-4d7431143eb0",
   "metadata": {},
   "outputs": [
    {
     "data": {
      "text/plain": [
       "spacy.tokens.doc.Doc"
      ]
     },
     "execution_count": 41,
     "metadata": {},
     "output_type": "execute_result"
    }
   ],
   "source": [
    "type(doc)"
   ]
  },
  {
   "cell_type": "code",
   "execution_count": 42,
   "id": "224b830a-9384-4e66-9c44-d0698e52db07",
   "metadata": {},
   "outputs": [
    {
     "data": {
      "text/plain": [
       "spacy.tokens.token.Token"
      ]
     },
     "execution_count": 42,
     "metadata": {},
     "output_type": "execute_result"
    }
   ],
   "source": [
    "type(token)"
   ]
  },
  {
   "cell_type": "code",
   "execution_count": 43,
   "id": "3983412c-fdc6-4932-8d65-293e92fbcaa1",
   "metadata": {},
   "outputs": [
    {
     "data": {
      "text/plain": [
       "'s go to N.Y."
      ]
     },
     "execution_count": 43,
     "metadata": {},
     "output_type": "execute_result"
    }
   ],
   "source": [
    "doc[1:5]"
   ]
  },
  {
   "cell_type": "code",
   "execution_count": 44,
   "id": "f1a66975-611a-49d1-a4d3-f999397fd753",
   "metadata": {},
   "outputs": [
    {
     "data": {
      "text/plain": [
       "Tony"
      ]
     },
     "execution_count": 44,
     "metadata": {},
     "output_type": "execute_result"
    }
   ],
   "source": [
    "doc = nlp(\"Tony gave two $ to Peter.\")\n",
    "token0 = doc[0]\n",
    "token0\n"
   ]
  },
  {
   "cell_type": "code",
   "execution_count": 46,
   "id": "ecd45781-587c-4590-805d-43307455d89d",
   "metadata": {},
   "outputs": [
    {
     "data": {
      "text/plain": [
       "['_',\n",
       " '__bytes__',\n",
       " '__class__',\n",
       " '__delattr__',\n",
       " '__dir__',\n",
       " '__doc__',\n",
       " '__eq__',\n",
       " '__format__',\n",
       " '__ge__',\n",
       " '__getattribute__',\n",
       " '__getstate__',\n",
       " '__gt__',\n",
       " '__hash__',\n",
       " '__init__',\n",
       " '__init_subclass__',\n",
       " '__le__',\n",
       " '__len__',\n",
       " '__lt__',\n",
       " '__ne__',\n",
       " '__new__',\n",
       " '__pyx_vtable__',\n",
       " '__reduce__',\n",
       " '__reduce_ex__',\n",
       " '__repr__',\n",
       " '__setattr__',\n",
       " '__sizeof__',\n",
       " '__str__',\n",
       " '__subclasshook__',\n",
       " '__unicode__',\n",
       " 'ancestors',\n",
       " 'check_flag',\n",
       " 'children',\n",
       " 'cluster',\n",
       " 'conjuncts',\n",
       " 'dep',\n",
       " 'dep_',\n",
       " 'doc',\n",
       " 'ent_id',\n",
       " 'ent_id_',\n",
       " 'ent_iob',\n",
       " 'ent_iob_',\n",
       " 'ent_kb_id',\n",
       " 'ent_kb_id_',\n",
       " 'ent_type',\n",
       " 'ent_type_',\n",
       " 'get_extension',\n",
       " 'has_dep',\n",
       " 'has_extension',\n",
       " 'has_head',\n",
       " 'has_morph',\n",
       " 'has_vector',\n",
       " 'head',\n",
       " 'i',\n",
       " 'idx',\n",
       " 'iob_strings',\n",
       " 'is_alpha',\n",
       " 'is_ancestor',\n",
       " 'is_ascii',\n",
       " 'is_bracket',\n",
       " 'is_currency',\n",
       " 'is_digit',\n",
       " 'is_left_punct',\n",
       " 'is_lower',\n",
       " 'is_oov',\n",
       " 'is_punct',\n",
       " 'is_quote',\n",
       " 'is_right_punct',\n",
       " 'is_sent_end',\n",
       " 'is_sent_start',\n",
       " 'is_space',\n",
       " 'is_stop',\n",
       " 'is_title',\n",
       " 'is_upper',\n",
       " 'lang',\n",
       " 'lang_',\n",
       " 'left_edge',\n",
       " 'lefts',\n",
       " 'lemma',\n",
       " 'lemma_',\n",
       " 'lex',\n",
       " 'lex_id',\n",
       " 'like_email',\n",
       " 'like_num',\n",
       " 'like_url',\n",
       " 'lower',\n",
       " 'lower_',\n",
       " 'morph',\n",
       " 'n_lefts',\n",
       " 'n_rights',\n",
       " 'nbor',\n",
       " 'norm',\n",
       " 'norm_',\n",
       " 'orth',\n",
       " 'orth_',\n",
       " 'pos',\n",
       " 'pos_',\n",
       " 'prefix',\n",
       " 'prefix_',\n",
       " 'prob',\n",
       " 'rank',\n",
       " 'remove_extension',\n",
       " 'right_edge',\n",
       " 'rights',\n",
       " 'sent',\n",
       " 'sent_start',\n",
       " 'sentiment',\n",
       " 'set_extension',\n",
       " 'set_morph',\n",
       " 'shape',\n",
       " 'shape_',\n",
       " 'similarity',\n",
       " 'subtree',\n",
       " 'suffix',\n",
       " 'suffix_',\n",
       " 'tag',\n",
       " 'tag_',\n",
       " 'tensor',\n",
       " 'text',\n",
       " 'text_with_ws',\n",
       " 'vector',\n",
       " 'vector_norm',\n",
       " 'vocab',\n",
       " 'whitespace_']"
      ]
     },
     "execution_count": 46,
     "metadata": {},
     "output_type": "execute_result"
    }
   ],
   "source": [
    "# all the methods in the token0 object\n",
    "dir(token0)"
   ]
  },
  {
   "cell_type": "code",
   "execution_count": 47,
   "id": "170472ba-97d3-4a3c-a8b4-6ec0c73cdcee",
   "metadata": {},
   "outputs": [
    {
     "data": {
      "text/plain": [
       "True"
      ]
     },
     "execution_count": 47,
     "metadata": {},
     "output_type": "execute_result"
    }
   ],
   "source": [
    "token0.is_alpha"
   ]
  },
  {
   "cell_type": "code",
   "execution_count": 48,
   "id": "25e799dc-a44f-4d93-bf3d-1e15679e862c",
   "metadata": {},
   "outputs": [
    {
     "data": {
      "text/plain": [
       "False"
      ]
     },
     "execution_count": 48,
     "metadata": {},
     "output_type": "execute_result"
    }
   ],
   "source": [
    "token0.like_num"
   ]
  },
  {
   "cell_type": "code",
   "execution_count": 49,
   "id": "7c0ddab4-a254-48b6-a34f-b3d4d8193ab7",
   "metadata": {},
   "outputs": [
    {
     "data": {
      "text/plain": [
       "'two'"
      ]
     },
     "execution_count": 49,
     "metadata": {},
     "output_type": "execute_result"
    }
   ],
   "source": [
    "token2 = doc[2]\n",
    "token2.text"
   ]
  },
  {
   "cell_type": "code",
   "execution_count": 50,
   "id": "b86b5696-5ff5-4421-b4c3-a75f969bd0ec",
   "metadata": {},
   "outputs": [
    {
     "data": {
      "text/plain": [
       "True"
      ]
     },
     "execution_count": 50,
     "metadata": {},
     "output_type": "execute_result"
    }
   ],
   "source": [
    "token2.like_num"
   ]
  },
  {
   "cell_type": "code",
   "execution_count": 51,
   "id": "55cc2de5-3bae-4d88-ac9d-3e3698319f13",
   "metadata": {},
   "outputs": [
    {
     "data": {
      "text/plain": [
       "True"
      ]
     },
     "execution_count": 51,
     "metadata": {},
     "output_type": "execute_result"
    }
   ],
   "source": [
    "token3 = doc[3]\n",
    "token3.is_currency"
   ]
  },
  {
   "cell_type": "code",
   "execution_count": 52,
   "id": "82a63299-7936-420c-b328-cc2080045b19",
   "metadata": {},
   "outputs": [
    {
     "name": "stdout",
     "output_type": "stream",
     "text": [
      "Tony ==> index:  0 is_alpha: True is_punch: False like_num False is_currency: False\n",
      "gave ==> index:  1 is_alpha: True is_punch: False like_num False is_currency: False\n",
      "two ==> index:  2 is_alpha: True is_punch: False like_num True is_currency: False\n",
      "$ ==> index:  3 is_alpha: False is_punch: False like_num False is_currency: True\n",
      "to ==> index:  4 is_alpha: True is_punch: False like_num False is_currency: False\n",
      "Peter ==> index:  5 is_alpha: True is_punch: False like_num False is_currency: False\n",
      ". ==> index:  6 is_alpha: False is_punch: True like_num False is_currency: False\n"
     ]
    }
   ],
   "source": [
    "for token in doc:\n",
    "    print(token, \"==>\", \"index: \", token.i, \"is_alpha:\", token.is_alpha, \"is_punch:\", token.is_punct, \"like_num\", token.like_num, \"is_currency:\", token.is_currency,)"
   ]
  },
  {
   "cell_type": "code",
   "execution_count": 54,
   "id": "97d28dae-74dc-4423-8db8-20bee3ecdb8d",
   "metadata": {},
   "outputs": [],
   "source": [
    "# spacy Pipeline -- OATH\n",
    "\n"
   ]
  },
  {
   "cell_type": "code",
   "execution_count": null,
   "id": "0345e480-add8-4821-a033-0728ad683bb4",
   "metadata": {},
   "outputs": [],
   "source": []
  }
 ],
 "metadata": {
  "kernelspec": {
   "display_name": "Python 3 (ipykernel)",
   "language": "python",
   "name": "python3"
  },
  "language_info": {
   "codemirror_mode": {
    "name": "ipython",
    "version": 3
   },
   "file_extension": ".py",
   "mimetype": "text/x-python",
   "name": "python",
   "nbconvert_exporter": "python",
   "pygments_lexer": "ipython3",
   "version": "3.11.3"
  }
 },
 "nbformat": 4,
 "nbformat_minor": 5
}
